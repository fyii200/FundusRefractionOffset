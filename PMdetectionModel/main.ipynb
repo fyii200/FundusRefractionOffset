{
 "cells": [
  {
   "cell_type": "markdown",
   "id": "bc2a0d8d",
   "metadata": {},
   "source": [
    "## Train"
   ]
  },
  {
   "cell_type": "markdown",
   "id": "acdb5bc9",
   "metadata": {},
   "source": [
    "#### With mixup augmentation and test-time augmentation"
   ]
  },
  {
   "cell_type": "code",
   "execution_count": null,
   "id": "10c673ba",
   "metadata": {},
   "outputs": [],
   "source": [
    "%run train.py --plotLosses --batchSize 8 --mixupProb 0.5 --numEpochs 20 --kFolds 5  --lr 1e-5 --resizedDim 512 --TTA --imageDir /opt/notebooks/images/PMfundus --numWorkers 4"
   ]
  },
  {
   "cell_type": "markdown",
   "id": "8d3cb4bd",
   "metadata": {},
   "source": [
    "# Inference"
   ]
  },
  {
   "cell_type": "markdown",
   "id": "93378c9a",
   "metadata": {},
   "source": [
    "#### Test-time augmentation implemented"
   ]
  },
  {
   "cell_type": "code",
   "execution_count": null,
   "id": "75f4548e",
   "metadata": {},
   "outputs": [],
   "source": [
    "%run python inference.py --numWorkers 16 --imageDir /opt/notebooks/images/fundus --TTA --optimalThreshold 0.15"
   ]
  },
  {
   "cell_type": "code",
   "execution_count": null,
   "id": "b4c657dc",
   "metadata": {},
   "outputs": [],
   "source": []
  },
  {
   "cell_type": "code",
   "execution_count": null,
   "id": "ebb359eb",
   "metadata": {},
   "outputs": [],
   "source": []
  }
 ],
 "metadata": {
  "kernelspec": {
   "display_name": "mlp",
   "language": "python",
   "name": "python3"
  },
  "language_info": {
   "codemirror_mode": {
    "name": "ipython",
    "version": 3
   },
   "file_extension": ".py",
   "mimetype": "text/x-python",
   "name": "python",
   "nbconvert_exporter": "python",
   "pygments_lexer": "ipython3",
   "version": "3.10.8"
  }
 },
 "nbformat": 4,
 "nbformat_minor": 5
}
